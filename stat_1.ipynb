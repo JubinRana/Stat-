{
  "nbformat": 4,
  "nbformat_minor": 0,
  "metadata": {
    "colab": {
      "provenance": []
    },
    "kernelspec": {
      "name": "python3",
      "display_name": "Python 3"
    },
    "language_info": {
      "name": "python"
    }
  },
  "cells": [
    {
      "cell_type": "markdown",
      "source": [
        "1/ Explain different types of data (qualitative and quantitative) and provide examples of each.Discuss nominal,ordinal,interval,and ratio scales."
      ],
      "metadata": {
        "id": "URsEarj1NlC8"
      }
    },
    {
      "cell_type": "markdown",
      "source": [
        "- Qualitative data: it describe qualities or characteristics. it is typically non numerical and can be categorized,\n",
        "\n",
        "Nominal scale- represent categories without any inherent order or ranking.\n",
        "\n",
        "  eg. gender,eye color,carbrands.\n",
        "\n",
        "Ordinal scales- represents categories with a meaningful order or ranking, but the difference between categories are not quantifiable\n",
        "\n",
        "  eg. education level,customer satisfaction ratings.\n",
        "\n",
        "- Quantitative data: this data deals with numbers are things that can be measured objectively.\n",
        "\n",
        "Interval scale- represent data with meaningful order and equal intervals between values, but lacks a true zero point.\n",
        "\n",
        "eg. temperature in celcius or fahrenheit."
      ],
      "metadata": {
        "id": "w1nbjEBA1Vgj"
      }
    },
    {
      "cell_type": "markdown",
      "source": [
        "2/ What are the measures of central tendency,and when should you use each?discuss the mean,median,and mode witj examples and situations where each is appropriate."
      ],
      "metadata": {
        "id": "8LPacXwvOAHD"
      }
    },
    {
      "cell_type": "markdown",
      "source": [
        "- Measures of central tendeny are used in statistics to describe the central or typical value of a dataset, there are three main measures of central tendency,\n",
        "\n",
        "Mean: the mean is average value of all the values in a dataset, it calculated by summming all the values and dividing by the total number of values. it is best used when data is normally distributed and not contain extreme values.\n",
        "\n",
        "Median: it is the middle value in a dataset when it's ordered from least to greatest, if there's an even number of values the median is the average of two middle values.\n",
        "\n",
        "Mode: It is the value that appears most frequently in a dataset, a dataset can have one mode ,two modes, or more, it is useful for categorical data or when identifying the most common value in a dataset."
      ],
      "metadata": {
        "id": "17BVjYvC3fjf"
      }
    },
    {
      "cell_type": "markdown",
      "source": [
        "3/ Explain the concept of dispersion, how do variance and standard  deviation measure the spread od data?"
      ],
      "metadata": {
        "id": "LWcuKAbpOduQ"
      }
    },
    {
      "cell_type": "markdown",
      "source": [
        "- Dispersion: it refers to spread or variability of data points in a dataset around the central tendency , it indicates how much the individual data points deviates from the central value, a higher dispersion means the data is more spread out, while a lower dispersion indicates that the data points are clustered closely around the central value.\n",
        "\n",
        "Variance and satandard deviation are two common measures of dispersion:\n",
        "\n",
        "Variance- it quantifies the average squared deviation of each data point from the mean, it calculated by summing the squared differences between each data point and the mean then dividing by the total number d data points.\n",
        "\n",
        "standard deviation- it is a square root of the variance, it represents the typical or average distance between each point and the mean, a higher standard deviation indicates greater dispersion."
      ],
      "metadata": {
        "id": "7mr6Syu35e5t"
      }
    },
    {
      "cell_type": "markdown",
      "source": [
        "4/ What is box plot,and what can it tell you about the distribution od data?"
      ],
      "metadata": {
        "id": "5lJjfuAuOvFC"
      }
    },
    {
      "cell_type": "markdown",
      "source": [
        "- A box plot also known as box-and-whisker plot, is a graphical representation of the distribution of a dataset based on its five-number summary,\n",
        "\n",
        "Minimum: the smallest value in the dataset.\n",
        "\n",
        "First quartile(Q1): the value that seperates the lowest 25% of the data from the rest.\n",
        "\n",
        "Median(Q2): the middle value of the dataset when it's ordered.\n",
        "\n",
        "Third quartile(Q3): the value that seperates the lowest 75% of the data from the rest.\n",
        "\n",
        "Maximum: the largest value in the dataset.\n",
        "\n",
        "it tell about the distribution of data:\n",
        "\n",
        "Central tendency, dispersion, skewness and outliers"
      ],
      "metadata": {
        "id": "GpqOzSrt75fg"
      }
    },
    {
      "cell_type": "markdown",
      "source": [
        "5/ Discuss the role of random sampling in making inference about populations."
      ],
      "metadata": {
        "id": "Lb-BozmaO-RZ"
      }
    },
    {
      "cell_type": "markdown",
      "source": [
        "- Random sampling is the foundation of reliable statistical inference because-\n",
        "\n",
        "Representativeness: a random sample where every member of the population has been equal chance of being selected, aims to create a sample that is representative of the population, this means the sanple's characteristics should closely resemble those of the population.\n",
        "\n",
        "Minimizing bias: random sampling helps reduce bias, it occurs when certain members of the population are more likely to be included in the sample than others, leading to distorted conclusions."
      ],
      "metadata": {
        "id": "uk2xp_OeABgY"
      }
    },
    {
      "cell_type": "markdown",
      "source": [
        "6/ Explain the concept of skewness and its types, how does skewness affects the interference of data?"
      ],
      "metadata": {
        "id": "hRSduLaKPNBT"
      }
    },
    {
      "cell_type": "markdown",
      "source": [
        "- It is a measure of the asymmetry of a probability distribution, it describe how much a distribution leans or tails off to one side , a perfectly symmetrical distribution has zero skewness,\n",
        "\n",
        "Types-\n",
        "\n",
        "Positive skewness- the distribution has a longer tail on the right side, this means the majority of the data ponts are clustered towards the left, with a few extreme values pulling the tail towards the right, the mean is typically greater than the median in positively skewed data.\n",
        "\n",
        "Negative skewness- the distribution has a longer tail on the left side, this indicates that most data points are concentrated towards the right with a few extreme values extending the tail to left."
      ],
      "metadata": {
        "id": "y4EXoijeEITl"
      }
    },
    {
      "cell_type": "markdown",
      "source": [
        "7/ What is interquartile range and how it is used to detect outliers?"
      ],
      "metadata": {
        "id": "qXaUaj1kPcdH"
      }
    },
    {
      "cell_type": "markdown",
      "source": [
        "- The IQR is a measure of statistical dispersion, representing the difference between third quartile and first quartile of a dataset.\n",
        "\n",
        "The IQR is commonly used to identify outliers-data points that are significantly different fom the rest of the data,\n",
        "\n",
        "Calculate IQR- As described find Q3 and Q1 and subtract them to get the IQR\n",
        "\n",
        "Establish \"Fences\": these fences are act as boundaries beyond which data points are considered outliers.\n",
        "  upperfence, lowerfence\n",
        "\n",
        "Identify outliers: any data point falling above the upper fence or below the lower fence is flagged as a potential outlier."
      ],
      "metadata": {
        "id": "GqY5qb1XA0M_"
      }
    },
    {
      "cell_type": "markdown",
      "source": [
        "8/ Discuss the conditions under which the binomial distribution is used."
      ],
      "metadata": {
        "id": "WpK761jbPoOc"
      }
    },
    {
      "cell_type": "markdown",
      "source": [
        "- The binomial distribution is a discrete probability distribution that describes the probability of obtaining a certain number of successes in a fixed number of independent trials,each with the same probability of success.\n",
        "\n",
        "conditions for using binomial distribution:\n",
        "\n",
        "1 Fixed number of trials(n): the experiment must have a predetermined and fixed number of trials.\n",
        "\n",
        "2 Independent trials: The outcome of each trial must be independent of the outcomes of other trials, this means the result of one trial should not influence the result of any other trial.\n",
        "\n",
        "3 Two possible outcomes: each trials must have only two possible outcomes: success or failure. these outcomes are muually exclusive, meaning only one can occur in a single trial."
      ],
      "metadata": {
        "id": "AEPAVEJBF_JK"
      }
    },
    {
      "cell_type": "markdown",
      "source": [
        "9/ Explain the properties of the normal distribution and the empirical rule(68-95-99.7rule)."
      ],
      "metadata": {
        "id": "lo-x0R3GP3Jt"
      }
    },
    {
      "cell_type": "markdown",
      "source": [
        "-\n",
        "1 Symmetrical: the distribution is perfectly symmetrical around the mean, which means the left and right halves are mirror images of each other.\n",
        "\n",
        "2 Bel-shaped: the distribution has characteristics bell shape, with the highest point at the mean and gradually decreasing towards the tails.\n",
        "\n",
        "3 Mean,Median,Mode are equal: in normal distribution the mean,median,mode are equal and located at the center of distribution.\n",
        "\n",
        "4 Empirical rule: known as 68-95-99.7 rule, provides a usefull approximation of the data distribution within a normal distribution.\n",
        "\n",
        "Empirical rule states that -\n",
        "\n",
        "Approximately 68% of the data falls within one standard deviation of the mean\n",
        "\n",
        "Approximately 95% of the data falls within two standard deviations of the mean\n",
        "\n",
        "Approximately 99.7% of the data falls with in three standard deviations of the mean."
      ],
      "metadata": {
        "id": "rNnznn_VH7p7"
      }
    },
    {
      "cell_type": "markdown",
      "source": [
        "10/ Provide a real-life example of a Poisson process and calculate the probability for a specific event."
      ],
      "metadata": {
        "id": "0EspJBS9QKq7"
      }
    },
    {
      "cell_type": "markdown",
      "source": [
        "- Scenerio: Customer arrivals at a coffee shop\n",
        "\n",
        "We can model the arrival of customers as a poisson process if the following assumptions hold:\n",
        "\n",
        "1 Events are independent: the arrival of one customer does not influence the arrival of another customer.\n",
        "\n",
        "2 Events are random: customers arrive at random times.\n",
        "\n",
        "3 Average rate is constant: the average number of customers arriving per unit of time is relatively constant.\n",
        "\n",
        "let average arrival rate of 10 customers per hour(lambda=10)\n",
        "\n",
        "specific event probability of 5 customers arriving in the next 30 minutes\n",
        "\n",
        "formula P(X=K)=(e^(-lambda')*(lambda')^k)/k!\n",
        "\n",
        "P(X=5)=(e^(-5)*(5)^5)/5!\n",
        "P(X=5)~0.1755\n",
        "  "
      ],
      "metadata": {
        "id": "aail_LHzKj5k"
      }
    },
    {
      "cell_type": "markdown",
      "source": [
        "11/ Explain what a random variables is and differentiate between discreteand continuous random variables."
      ],
      "metadata": {
        "id": "4J704-x4QeiP"
      }
    },
    {
      "cell_type": "markdown",
      "source": [
        "- A random variable is a variable whose value is a numerical outcome of a random phenomenon, in simpler terms, it's a variable that can take on different values based on chance or probability.\n",
        "\n",
        "Discrete random variable-  it can only take on a finite number of distinct values or a countably infinite number of values, these values are usually integers, but they can also be a finite set of non-integer values.\n",
        "\n",
        "Continous random variable- it can take on any value with in a given range or interval, there are infinitely many possible values within that range. eg. height of a person, temperature of room"
      ],
      "metadata": {
        "id": "xXMb2wuSTmkc"
      }
    },
    {
      "cell_type": "markdown",
      "source": [
        "12/ Provide an example dataset, calculate both covariance and correlation, and interpret the results."
      ],
      "metadata": {
        "id": "tHJjwkTNQxjI"
      }
    },
    {
      "cell_type": "code",
      "source": [
        "import numpy as np\n",
        "\n",
        "sales = [100, 120, 150, 130, 110, 140, 160]\n",
        "temperature =[25, 28, 30, 27, 26, 29, 31]\n",
        "\n",
        "covariance = np.cov(sales, temperature, bias=False)[0, 1]\n",
        "print(\"Covariance:\", covariance)\n",
        "\n",
        "correlation = np.corrcoef(sales, temperature)[0, 1]\n",
        "print(\"Correlation:\", correlation)\n",
        "\n",
        "\n",
        "\n"
      ],
      "metadata": {
        "colab": {
          "base_uri": "https://localhost:8080/"
        },
        "id": "4KdRpiqASYHL",
        "outputId": "d7a4e7ad-3258-4e55-c88d-64b61f0f7e30"
      },
      "execution_count": 2,
      "outputs": [
        {
          "output_type": "stream",
          "name": "stdout",
          "text": [
            "Covariance: 45.0\n",
            "Correlation: 0.9642857142857145\n"
          ]
        }
      ]
    }
  ]
}